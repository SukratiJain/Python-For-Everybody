{
  "nbformat": 4,
  "nbformat_minor": 0,
  "metadata": {
    "colab": {
      "name": "Python For Everypbody.ipynb",
      "provenance": [],
      "collapsed_sections": [],
      "include_colab_link": true
    },
    "kernelspec": {
      "name": "python3",
      "display_name": "Python 3"
    }
  },
  "cells": [
    {
      "cell_type": "markdown",
      "metadata": {
        "id": "view-in-github",
        "colab_type": "text"
      },
      "source": [
        "<a href=\"https://colab.research.google.com/github/SukratiJain/Python-For-Everybody/blob/main/Python_For_Everypbody.ipynb\" target=\"_parent\"><img src=\"https://colab.research.google.com/assets/colab-badge.svg\" alt=\"Open In Colab\"/></a>"
      ]
    },
    {
      "cell_type": "code",
      "metadata": {
        "id": "1jowvDVRNbG6",
        "outputId": "0ea52d85-0c71-4661-8c72-4fba841b103a",
        "colab": {
          "base_uri": "https://localhost:8080/",
          "height": 54
        }
      },
      "source": [
        "#Course3 Week4 Assign2\n",
        "#Following Links In HTML Using BeautifulSoup\n",
        " \n",
        "import urllib.request, urllib.parse, urllib.error\n",
        "from bs4 import BeautifulSoup\n",
        "url=input(\"Enter the url: \")\n",
        "print(url)\n",
        "position=int(input(\"Enter position: \"))\n",
        "count=int(input(\"Enter count: \"))\n",
        "html=urllib.request.urlopen(url).read()\n",
        "soup=BeautifulSoup (html,'html.parser')\n",
        "tags=soup ('a')\n",
        "for i in range(count):\n",
        "    print('@')"
      ],
      "execution_count": null,
      "outputs": [
        {
          "output_type": "stream",
          "text": [
            "http://py4e-data.dr-chuck.net/known_by_Fikret.html\n"
          ],
          "name": "stdout"
        }
      ]
    },
    {
      "cell_type": "code",
      "metadata": {
        "id": "OY6v299XM7jZ",
        "outputId": "fc5e6a46-91e7-4bdf-d17b-1f95f3e6eb36",
        "colab": {
          "base_uri": "https://localhost:8080/",
          "height": 71
        }
      },
      "source": [
        "#Course3 Week6 Assign1\n",
        "#Extracting Data From JSON\n",
        " \n",
        "import urllib.request, urllib.parse, urllib.error\n",
        "import json\n",
        "url=input(\"Enter the url: \")\n",
        "uh=urllib.request.urlopen(url).read()\n",
        "info=json.loads(uh)\n",
        "data=info[\"comments\"][0:]\n",
        "total=0\n",
        "for d in data:\n",
        "    stuff=d[\"count\"]\n",
        "    total=total+stuff\n",
        "print(total)"
      ],
      "execution_count": null,
      "outputs": [
        {
          "output_type": "stream",
          "text": [
            "Enter the url: http://py4e-data.dr-chuck.net/comments_868843.json\n",
            "2264\n"
          ],
          "name": "stdout"
        }
      ]
    },
    {
      "cell_type": "code",
      "metadata": {
        "id": "FYsqZ7X_Tbv0",
        "outputId": "fc370025-279f-47f7-9f71-089c367e59c5",
        "colab": {
          "base_uri": "https://localhost:8080/",
          "height": 71
        }
      },
      "source": [
        "#Course3 Week4 Assign1\n",
        "#Scraping HTML Data With BeautifulSoup\n",
        " \n",
        "import urllib.request,urllib.parse,urllib.error\n",
        "from bs4 import BeautifulSoup\n",
        "total=0\n",
        "url=input(\"Enter the url: \")\n",
        "html=urllib.request.urlopen(url).read ()\n",
        "soup=BeautifulSoup (html,'html.parser')\n",
        "tags = soup('span')\n",
        "for tag in tags:   \n",
        "   total=total+(int(tag.contents[0]))\n",
        "print(total)"
      ],
      "execution_count": null,
      "outputs": [
        {
          "output_type": "stream",
          "text": [
            "Enter the url: http://py4e-data.dr-chuck.net/comments_868840.html\n",
            "2597\n"
          ],
          "name": "stdout"
        }
      ]
    }
  ]
}